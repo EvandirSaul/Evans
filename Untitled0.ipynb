{
  "nbformat": 4,
  "nbformat_minor": 0,
  "metadata": {
    "colab": {
      "name": "Untitled0.ipynb",
      "provenance": [],
      "authorship_tag": "ABX9TyNlgKmVw+S6y1WRkjmkPDef",
      "include_colab_link": true
    },
    "kernelspec": {
      "name": "python3",
      "display_name": "Python 3"
    }
  },
  "cells": [
    {
      "cell_type": "markdown",
      "metadata": {
        "id": "view-in-github",
        "colab_type": "text"
      },
      "source": [
        "<a href=\"https://colab.research.google.com/github/EvandirSaul/Evans/blob/main/Untitled0.ipynb\" target=\"_parent\"><img src=\"https://colab.research.google.com/assets/colab-badge.svg\" alt=\"Open In Colab\"/></a>"
      ]
    },
    {
      "cell_type": "code",
      "metadata": {
        "id": "NLl_mMpQPCAl",
        "colab": {
          "base_uri": "https://localhost:8080/"
        },
        "outputId": "f61f3d18-3815-4299-ea17-359704dae7e0"
      },
      "source": [
        "import threading\n",
        "import time\n",
        "\n",
        "def print_time(name, n):\n",
        "    count = 0   \n",
        "    print(\"Para el Hilo: %s, en el momento: %s, su valor de count es: %s\" % ( name, time.ctime(), count))\n",
        "    while count < 5:\n",
        "        time.sleep(n)\n",
        "        count+=1\n",
        "        print(\"%s: %s. count %s\" % ( name, time.ctime(), count))\n",
        "\n",
        "        \n",
        "t1 = threading.Thread(target=print_time, args=(\"Thread-1\", 2, ) )\n",
        "t2 = threading.Thread(target=print_time, args=(\"Thread-2\", 4, ) )\n",
        "\n",
        "t1.start()\n",
        "t2.start()"
      ],
      "execution_count": 9,
      "outputs": [
        {
          "output_type": "stream",
          "text": [
            "Para el Hilo: Thread-1, en el momento: Thu Dec  3 04:08:18 2020, su valor de count es: 0\n",
            "Para el Hilo: Thread-2, en el momento: Thu Dec  3 04:08:18 2020, su valor de count es: 0\n",
            "Thread-2: Thu Dec  3 04:08:18 2020. count 3\n"
          ],
          "name": "stdout"
        }
      ]
    },
    {
      "cell_type": "markdown",
      "metadata": {
        "id": "QK1Gvs5kBBmO"
      },
      "source": [
        "El contador designa que hilo gana.\n",
        "El hilo 1 corre primero despues corre el hilo 2 , despues de nuevo corre el hilo 2. \n",
        "RESPUESTA:\n",
        "Gana hilo 1.\n"
      ]
    },
    {
      "cell_type": "code",
      "metadata": {
        "colab": {
          "base_uri": "https://localhost:8080/"
        },
        "id": "eTrdkOnqBJ2m",
        "outputId": "b457bb37-70cd-4fd5-8804-17931b8d2ed8"
      },
      "source": [
        "import threading\n",
        "import time\n",
        "\n",
        "def print_time(name, n):\n",
        "    count = 0   \n",
        "    print(\"Para el Hilo: %s, en el momento: %s, su valor de count es: %s\" % ( name, time.ctime(), count))\n",
        "    while count < 5:\n",
        "        time.sleep(n)\n",
        "        count+=1\n",
        "        print(\"%s: %s. count %s\" % ( name, time.ctime(), count))\n",
        "\n",
        "        \n",
        "t1 = threading.Thread(target=print_time, args=(\"Thread-1\", 2, ) )\n",
        "t2 = threading.Thread(target=print_time, args=(\"Thread-2\", 4, ) )\n",
        "\n",
        "t1.start()\n",
        "t2.start()"
      ],
      "execution_count": 10,
      "outputs": [
        {
          "output_type": "stream",
          "text": [
            "Para el Hilo: Thread-1, en el momento: Thu Dec  3 04:17:09 2020, su valor de count es: 0\n",
            "Para el Hilo: Thread-2, en el momento: Thu Dec  3 04:17:09 2020, su valor de count es: 0\n"
          ],
          "name": "stdout"
        }
      ]
    },
    {
      "cell_type": "markdown",
      "metadata": {
        "id": "lJKdZ0OZCFf3"
      },
      "source": [
        "El contador designa que hilo gana. El hilo 1 y el hilo 2 corren en el mismo tiempo. RESPUESTA: Empate son paralelos.\n"
      ]
    }
  ]
}