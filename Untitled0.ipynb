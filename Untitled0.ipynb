{
  "nbformat": 4,
  "nbformat_minor": 0,
  "metadata": {
    "colab": {
      "name": "Untitled0.ipynb",
      "provenance": [],
      "authorship_tag": "ABX9TyNcL9vR9W3zTrlB4c1LUGvw",
      "include_colab_link": true
    },
    "kernelspec": {
      "name": "python3",
      "display_name": "Python 3"
    }
  },
  "cells": [
    {
      "cell_type": "markdown",
      "metadata": {
        "id": "view-in-github",
        "colab_type": "text"
      },
      "source": [
        "<a href=\"https://colab.research.google.com/github/EvandirSaul/Evans/blob/main/Untitled0.ipynb\" target=\"_parent\"><img src=\"https://colab.research.google.com/assets/colab-badge.svg\" alt=\"Open In Colab\"/></a>"
      ]
    },
    {
      "cell_type": "code",
      "metadata": {
        "id": "NLl_mMpQPCAl",
        "outputId": "e1564a53-ba47-4c25-e8a9-a74aba83b013",
        "colab": {
          "base_uri": "https://localhost:8080/"
        }
      },
      "source": [
        "#input: nro de hilos\n",
        "#procedimiento:\n",
        "# - Thread_worker() obtiene el nombre de un hilo con la función currentThread().getName() \n",
        "# - cada hilo llama a Thread_worker()\n",
        "#output: Thread_worker() imprime el nombre del hilo tomado\n",
        "\n",
        "import threading\n",
        "  \n",
        "THREADS_COUNT = 3  \n",
        "\n",
        "class Threaded_worker(threading.Thread):\n",
        "    def __init__(self):\n",
        "        threading.Thread.__init__(self)\n",
        "    def run(self):\n",
        "        threadName = threading.currentThread().getName() \n",
        "        print(\"Hola, Soy el thread(hilo) %s\" % threadName)\n",
        "\n",
        "print('Inicializando %d threads...' % THREADS_COUNT)\n",
        "for i in range(THREADS_COUNT):\n",
        "    td = Threaded_worker()\n",
        "    td.start()\n"
      ],
      "execution_count": 1,
      "outputs": [
        {
          "output_type": "stream",
          "text": [
            "Inicializando 3 threads...\n",
            "Hola, Soy el thread(hilo) Thread-4Hola, Soy el thread(hilo) Thread-5\n",
            "\n",
            "Hola, Soy el thread(hilo) Thread-6\n"
          ],
          "name": "stdout"
        }
      ]
    },
    {
      "cell_type": "code",
      "metadata": {
        "id": "7tdJDYdtQ02r"
      },
      "source": [
        "import multiprocessing\n",
        "import os\n",
        "\n",
        "WORKER_NUMBER = 3\n",
        "\n",
        "def worker():\n",
        "    PID = os.getpid()\n",
        "    print (\"Hola, soy el proceso son PID %d\" % PID)\n",
        "\n",
        "print ('Inicializando %d procesos...' % WORKER_NUMBER)\n",
        "\n",
        "jobs = []\n",
        "for i in range(WORKER_NUMBER):\n",
        "    p = multiprocessing.Process(target=worker, args=())\n",
        "    jobs.append(p)\n",
        "    p.start()"
      ],
      "execution_count": null,
      "outputs": []
    },
    {
      "cell_type": "code",
      "metadata": {
        "id": "lBiUJSayQ1VR"
      },
      "source": [
        "import threading\n",
        "def cuenta(n,name):\n",
        "    count=n\n",
        "    while count<1:\n",
        "      print(\"%s in count %s\" % (name, count))\n",
        "      count+=1\n",
        "\n",
        "t = threading.Thread(target=cuenta, args=(1, 'thread1'))\n",
        "t2 = threading.Thread(target=cuenta, args=(2, 'thread2'))\n",
        "t3 = threading.Thread(target=cuenta, args=(3, 'thread3'))\n",
        "\n",
        "t.start()\n",
        "t2.start()\n",
        "t3.start()\n"
      ],
      "execution_count": 6,
      "outputs": []
    },
    {
      "cell_type": "code",
      "metadata": {
        "id": "BnMFgl6rQ9_h"
      },
      "source": [
        "import time\n",
        "\n",
        "print (\"Start : %s\" % time.ctime())\n",
        "time.sleep(4)\n",
        "print (\"End : %s\" % time.ctime())\n"
      ],
      "execution_count": null,
      "outputs": []
    },
    {
      "cell_type": "code",
      "metadata": {
        "id": "mK9xd5m6RA1I"
      },
      "source": [
        "import threading\n",
        "import time\n",
        "\n",
        "def print_time(name):\n",
        "    count = 0   \n",
        "    print(\"inicio %s: %s. count %s\" % ( name, time.ctime(), count))\n",
        "    while count < 5:\n",
        "        count+=1\n",
        "        print(\"%s: %s. count %s\" % ( name, time.ctime(time.time()), count))\n",
        "\n",
        "        \n",
        "t1 = threading.Thread(target=print_time, args=(\"Thread-1\", ) )\n",
        "t2 = threading.Thread(target=print_time, args=(\"Thread-2\", ) )\n",
        "\n",
        "t1.start()\n",
        "time.sleep(2)\n",
        "t2.start()"
      ],
      "execution_count": null,
      "outputs": []
    },
    {
      "cell_type": "code",
      "metadata": {
        "id": "7KnZZjwsRD9Q"
      },
      "source": [
        "import threading\n",
        "import time\n",
        "\n",
        "def print_time(name, n):\n",
        "    count = 0   \n",
        "    print(\"Para el Hilo: %s, en el momento: %s, su valor de count es: %s\" % ( name, time.ctime(), count))\n",
        "    while count < 5:\n",
        "        time.sleep(n)\n",
        "        count+=1\n",
        "        print(\"%s: %s. count %s\" % ( name, time.ctime(), count))\n",
        "\n",
        "        \n",
        "t1 = threading.Thread(target=print_time, args=(\"Thread-1\", 2, ) )\n",
        "t2 = threading.Thread(target=print_time, args=(\"Thread-2\", 4, ) )\n",
        "\n",
        "t1.start()\n",
        "t2.start()"
      ],
      "execution_count": null,
      "outputs": []
    }
  ]
}